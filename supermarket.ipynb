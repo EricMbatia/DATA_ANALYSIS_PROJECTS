{
 "cells": [
  {
   "cell_type": "markdown",
   "metadata": {},
   "source": [
    "DATA ANALYSIS WITH PYTHON PROJECT\n",
    "\n",
    "PREREQUISITE\n",
    "\n",
    "In this dataset we  have a supermarket chain store data with three branches. in the data set containes the various invoices/orders for the different array of products that are stocked in the stores. My task here is to evaluate the data and give a summary. Finally I wil give a recommendation that improves business outcomes. "
   ]
  },
  {
   "cell_type": "markdown",
   "metadata": {},
   "source": [
    "1. IMPORTING LIBRARIES"
   ]
  },
  {
   "cell_type": "code",
   "execution_count": 63,
   "metadata": {},
   "outputs": [],
   "source": [
    "# importing numpy for performing scientific computations\n",
    "import numpy as np\n",
    "\n",
    "# importing pandas to perform data analysis and manipulation\n",
    "import pandas as pd\n",
    "\n",
    "# importing matplotlib.pyplot for data visualization\n",
    "import matplotlib.pyplot as plt\n",
    "\n",
    "# importing seaborn for data visualization\n",
    "import seaborn as sns"
   ]
  },
  {
   "cell_type": "markdown",
   "metadata": {},
   "source": [
    "2. LOADING THE DATASET"
   ]
  },
  {
   "cell_type": "code",
   "execution_count": 64,
   "metadata": {},
   "outputs": [
    {
     "name": "stdout",
     "output_type": "stream",
     "text": [
      "      invoice_id branch customer_type  gender            product_line  \\\n",
      "0    750-67-8428      A        Member  Female       Health and beauty   \n",
      "1    226-31-3081      C        Normal  Female  Electronic accessories   \n",
      "2    631-41-3108      A        Normal    Male      Home and lifestyle   \n",
      "3    123-19-1176      A        Member    Male       Health and beauty   \n",
      "4    373-73-7910      A        Normal    Male       Sports and travel   \n",
      "..           ...    ...           ...     ...                     ...   \n",
      "995  233-67-5758      C        Normal    Male       Health and beauty   \n",
      "996  303-96-2227      B        Normal  Female      Home and lifestyle   \n",
      "997  727-02-1313      A        Member    Male      Food and beverages   \n",
      "998  347-56-2442      A        Normal    Male      Home and lifestyle   \n",
      "999  849-09-3807      A        Member  Female     Fashion accessories   \n",
      "\n",
      "     unit_price  quantity  tax_5_perc      total       date   time  \\\n",
      "0         74.69         7     26.1415   548.9715   1/5/2019  13:08   \n",
      "1         15.28         5      3.8200    80.2200   3/8/2019  10:29   \n",
      "2         46.33         7     16.2155   340.5255   3/3/2019  13:23   \n",
      "3         58.22         8     23.2880   489.0480  1/27/2019  20:33   \n",
      "4         86.31         7     30.2085   634.3785   2/8/2019  10:37   \n",
      "..          ...       ...         ...        ...        ...    ...   \n",
      "995       40.35         1      2.0175    42.3675  1/29/2019  13:46   \n",
      "996       97.38        10     48.6900  1022.4900   3/2/2019  17:16   \n",
      "997       31.84         1      1.5920    33.4320   2/9/2019  13:22   \n",
      "998       65.82         1      3.2910    69.1110  2/22/2019  15:33   \n",
      "999       88.34         7     30.9190   649.2990  2/18/2019  13:28   \n",
      "\n",
      "          payment  cost_of_goods_sold  gross_margin_percentage  gross_income  \\\n",
      "0    Mobile Money              522.83                 4.761905       26.1415   \n",
      "1            Cash               76.40                 4.761905        3.8200   \n",
      "2      Debit card              324.31                 4.761905       16.2155   \n",
      "3    Mobile Money              465.76                 4.761905       23.2880   \n",
      "4    Mobile Money              604.17                 4.761905       30.2085   \n",
      "..            ...                 ...                      ...           ...   \n",
      "995  Mobile Money               40.35                 4.761905        2.0175   \n",
      "996  Mobile Money              973.80                 4.761905       48.6900   \n",
      "997          Cash               31.84                 4.761905        1.5920   \n",
      "998          Cash               65.82                 4.761905        3.2910   \n",
      "999          Cash              618.38                 4.761905       30.9190   \n",
      "\n",
      "     rating  \n",
      "0       9.1  \n",
      "1       9.6  \n",
      "2       7.4  \n",
      "3       8.4  \n",
      "4       5.3  \n",
      "..      ...  \n",
      "995     6.2  \n",
      "996     4.4  \n",
      "997     7.7  \n",
      "998     4.1  \n",
      "999     6.6  \n",
      "\n",
      "[1000 rows x 16 columns]\n"
     ]
    }
   ],
   "source": [
    "# storing the dataset in a variable\n",
    "url = 'https://bit.ly/3lLgXwC'\n",
    "\n",
    "# loading the dataset onto a Pandas data frame\n",
    "supermarket_data = pd.read_csv(url)\n",
    "supermarket_df = pd.DataFrame(supermarket_data)\n",
    "\n",
    "# print the dataset\n",
    "print(supermarket_df)"
   ]
  },
  {
   "cell_type": "markdown",
   "metadata": {},
   "source": [
    "3. EXPLORING THE DATASET"
   ]
  },
  {
   "cell_type": "code",
   "execution_count": 65,
   "metadata": {},
   "outputs": [
    {
     "name": "stdout",
     "output_type": "stream",
     "text": [
      "    invoice_id branch customer_type  gender            product_line  \\\n",
      "0  750-67-8428      A        Member  Female       Health and beauty   \n",
      "1  226-31-3081      C        Normal  Female  Electronic accessories   \n",
      "2  631-41-3108      A        Normal    Male      Home and lifestyle   \n",
      "3  123-19-1176      A        Member    Male       Health and beauty   \n",
      "4  373-73-7910      A        Normal    Male       Sports and travel   \n",
      "\n",
      "   unit_price  quantity  tax_5_perc     total       date   time       payment  \\\n",
      "0       74.69         7     26.1415  548.9715   1/5/2019  13:08  Mobile Money   \n",
      "1       15.28         5      3.8200   80.2200   3/8/2019  10:29          Cash   \n",
      "2       46.33         7     16.2155  340.5255   3/3/2019  13:23    Debit card   \n",
      "3       58.22         8     23.2880  489.0480  1/27/2019  20:33  Mobile Money   \n",
      "4       86.31         7     30.2085  634.3785   2/8/2019  10:37  Mobile Money   \n",
      "\n",
      "   cost_of_goods_sold  gross_margin_percentage  gross_income  rating  \n",
      "0              522.83                 4.761905       26.1415     9.1  \n",
      "1               76.40                 4.761905        3.8200     9.6  \n",
      "2              324.31                 4.761905       16.2155     7.4  \n",
      "3              465.76                 4.761905       23.2880     8.4  \n",
      "4              604.17                 4.761905       30.2085     5.3  \n"
     ]
    }
   ],
   "source": [
    "# preview the first 5 records\n",
    "print(supermarket_df.head())"
   ]
  },
  {
   "cell_type": "code",
   "execution_count": 66,
   "metadata": {},
   "outputs": [
    {
     "name": "stdout",
     "output_type": "stream",
     "text": [
      "      invoice_id branch customer_type  gender         product_line  \\\n",
      "995  233-67-5758      C        Normal    Male    Health and beauty   \n",
      "996  303-96-2227      B        Normal  Female   Home and lifestyle   \n",
      "997  727-02-1313      A        Member    Male   Food and beverages   \n",
      "998  347-56-2442      A        Normal    Male   Home and lifestyle   \n",
      "999  849-09-3807      A        Member  Female  Fashion accessories   \n",
      "\n",
      "     unit_price  quantity  tax_5_perc      total       date   time  \\\n",
      "995       40.35         1      2.0175    42.3675  1/29/2019  13:46   \n",
      "996       97.38        10     48.6900  1022.4900   3/2/2019  17:16   \n",
      "997       31.84         1      1.5920    33.4320   2/9/2019  13:22   \n",
      "998       65.82         1      3.2910    69.1110  2/22/2019  15:33   \n",
      "999       88.34         7     30.9190   649.2990  2/18/2019  13:28   \n",
      "\n",
      "          payment  cost_of_goods_sold  gross_margin_percentage  gross_income  \\\n",
      "995  Mobile Money               40.35                 4.761905        2.0175   \n",
      "996  Mobile Money              973.80                 4.761905       48.6900   \n",
      "997          Cash               31.84                 4.761905        1.5920   \n",
      "998          Cash               65.82                 4.761905        3.2910   \n",
      "999          Cash              618.38                 4.761905       30.9190   \n",
      "\n",
      "     rating  \n",
      "995     6.2  \n",
      "996     4.4  \n",
      "997     7.7  \n",
      "998     4.1  \n",
      "999     6.6  \n"
     ]
    }
   ],
   "source": [
    "# preview the last 5 records\n",
    "print(supermarket_df.tail())"
   ]
  },
  {
   "cell_type": "code",
   "execution_count": 67,
   "metadata": {},
   "outputs": [
    {
     "data": {
      "text/plain": [
       "(1000, 16)"
      ]
     },
     "execution_count": 67,
     "metadata": {},
     "output_type": "execute_result"
    }
   ],
   "source": [
    "# get the shape (number of rows and columns) of your dataset\n",
    "# print(supermarket_df.shape)\n",
    "supermarket_df.shape"
   ]
  },
  {
   "cell_type": "code",
   "execution_count": 68,
   "metadata": {},
   "outputs": [
    {
     "name": "stdout",
     "output_type": "stream",
     "text": [
      "invoice_id\n",
      "branch\n",
      "customer_type\n",
      "gender\n",
      "product_line\n",
      "unit_price\n",
      "quantity\n",
      "tax_5_perc\n",
      "total\n",
      "date\n",
      "time\n",
      "payment\n",
      "cost_of_goods_sold\n",
      "gross_margin_percentage\n",
      "gross_income\n",
      "rating\n"
     ]
    }
   ],
   "source": [
    "# preview all the columns\n",
    "# print(supermarket_df.columns)\n",
    "col_arr = np.array(list(supermarket_df.columns))\n",
    "for value in supermarket_df.columns :\n",
    "    print(value)"
   ]
  },
  {
   "cell_type": "code",
   "execution_count": 69,
   "metadata": {},
   "outputs": [
    {
     "data": {
      "text/plain": [
       "invoice_id                  object\n",
       "branch                      object\n",
       "customer_type               object\n",
       "gender                      object\n",
       "product_line                object\n",
       "unit_price                 float64\n",
       "quantity                     int64\n",
       "tax_5_perc                 float64\n",
       "total                      float64\n",
       "date                        object\n",
       "time                        object\n",
       "payment                     object\n",
       "cost_of_goods_sold         float64\n",
       "gross_margin_percentage    float64\n",
       "gross_income               float64\n",
       "rating                     float64\n",
       "dtype: object"
      ]
     },
     "execution_count": 69,
     "metadata": {},
     "output_type": "execute_result"
    }
   ],
   "source": [
    "# previewing the data types of the features/variables/columns\n",
    "supermarket_df.dtypes"
   ]
  },
  {
   "cell_type": "markdown",
   "metadata": {},
   "source": [
    "Looking for duplicates and missing values"
   ]
  },
  {
   "cell_type": "code",
   "execution_count": 70,
   "metadata": {},
   "outputs": [
    {
     "data": {
      "text/plain": [
       "False"
      ]
     },
     "execution_count": 70,
     "metadata": {},
     "output_type": "execute_result"
    }
   ],
   "source": [
    "# looking for duplicated records\n",
    "# supermarket_df.duplicated().any() #the any method returns just one boolean depending on the availability of duplicates\n",
    "supermarket_df.duplicated().any()"
   ]
  },
  {
   "cell_type": "code",
   "execution_count": 71,
   "metadata": {},
   "outputs": [
    {
     "data": {
      "text/plain": [
       "invoice_id                 0\n",
       "branch                     0\n",
       "customer_type              0\n",
       "gender                     0\n",
       "product_line               0\n",
       "unit_price                 0\n",
       "quantity                   0\n",
       "tax_5_perc                 0\n",
       "total                      0\n",
       "date                       0\n",
       "time                       0\n",
       "payment                    0\n",
       "cost_of_goods_sold         0\n",
       "gross_margin_percentage    0\n",
       "gross_income               0\n",
       "rating                     0\n",
       "dtype: int64"
      ]
     },
     "execution_count": 71,
     "metadata": {},
     "output_type": "execute_result"
    }
   ],
   "source": [
    "# looking for missing values\n",
    "# supermarket_df.isna().sum() #adding a sum() method at the end returns the sum of the boolean integers for each column\n",
    "supermarket_df.isna().sum()"
   ]
  },
  {
   "cell_type": "markdown",
   "metadata": {},
   "source": [
    "4. DESCRIPTVE DATA ANALYSIS\n",
    "Data Analysis can be divided into two:\n",
    "\n",
    "Univariate Analysis - where you look at a single variable\n",
    "Bivariate Analysis - where you look at how two variables relate with each other"
   ]
  },
  {
   "cell_type": "markdown",
   "metadata": {},
   "source": [
    "4.1 UNIVARIATE ANALYSIS"
   ]
  },
  {
   "cell_type": "code",
   "execution_count": 72,
   "metadata": {},
   "outputs": [
    {
     "data": {
      "text/html": [
       "<div>\n",
       "<style scoped>\n",
       "    .dataframe tbody tr th:only-of-type {\n",
       "        vertical-align: middle;\n",
       "    }\n",
       "\n",
       "    .dataframe tbody tr th {\n",
       "        vertical-align: top;\n",
       "    }\n",
       "\n",
       "    .dataframe thead th {\n",
       "        text-align: right;\n",
       "    }\n",
       "</style>\n",
       "<table border=\"1\" class=\"dataframe\">\n",
       "  <thead>\n",
       "    <tr style=\"text-align: right;\">\n",
       "      <th></th>\n",
       "      <th>unit_price</th>\n",
       "      <th>quantity</th>\n",
       "      <th>tax_5_perc</th>\n",
       "      <th>total</th>\n",
       "      <th>cost_of_goods_sold</th>\n",
       "      <th>gross_margin_percentage</th>\n",
       "      <th>gross_income</th>\n",
       "      <th>rating</th>\n",
       "    </tr>\n",
       "  </thead>\n",
       "  <tbody>\n",
       "    <tr>\n",
       "      <th>count</th>\n",
       "      <td>1000.000000</td>\n",
       "      <td>1000.000000</td>\n",
       "      <td>1000.000000</td>\n",
       "      <td>1000.000000</td>\n",
       "      <td>1000.00000</td>\n",
       "      <td>1.000000e+03</td>\n",
       "      <td>1000.000000</td>\n",
       "      <td>1000.00000</td>\n",
       "    </tr>\n",
       "    <tr>\n",
       "      <th>mean</th>\n",
       "      <td>55.672130</td>\n",
       "      <td>5.510000</td>\n",
       "      <td>15.379369</td>\n",
       "      <td>322.966749</td>\n",
       "      <td>307.58738</td>\n",
       "      <td>4.761905e+00</td>\n",
       "      <td>15.379369</td>\n",
       "      <td>6.97270</td>\n",
       "    </tr>\n",
       "    <tr>\n",
       "      <th>std</th>\n",
       "      <td>26.494628</td>\n",
       "      <td>2.923431</td>\n",
       "      <td>11.708825</td>\n",
       "      <td>245.885335</td>\n",
       "      <td>234.17651</td>\n",
       "      <td>6.131498e-14</td>\n",
       "      <td>11.708825</td>\n",
       "      <td>1.71858</td>\n",
       "    </tr>\n",
       "    <tr>\n",
       "      <th>min</th>\n",
       "      <td>10.080000</td>\n",
       "      <td>1.000000</td>\n",
       "      <td>0.508500</td>\n",
       "      <td>10.678500</td>\n",
       "      <td>10.17000</td>\n",
       "      <td>4.761905e+00</td>\n",
       "      <td>0.508500</td>\n",
       "      <td>4.00000</td>\n",
       "    </tr>\n",
       "    <tr>\n",
       "      <th>25%</th>\n",
       "      <td>32.875000</td>\n",
       "      <td>3.000000</td>\n",
       "      <td>5.924875</td>\n",
       "      <td>124.422375</td>\n",
       "      <td>118.49750</td>\n",
       "      <td>4.761905e+00</td>\n",
       "      <td>5.924875</td>\n",
       "      <td>5.50000</td>\n",
       "    </tr>\n",
       "    <tr>\n",
       "      <th>50%</th>\n",
       "      <td>55.230000</td>\n",
       "      <td>5.000000</td>\n",
       "      <td>12.088000</td>\n",
       "      <td>253.848000</td>\n",
       "      <td>241.76000</td>\n",
       "      <td>4.761905e+00</td>\n",
       "      <td>12.088000</td>\n",
       "      <td>7.00000</td>\n",
       "    </tr>\n",
       "    <tr>\n",
       "      <th>75%</th>\n",
       "      <td>77.935000</td>\n",
       "      <td>8.000000</td>\n",
       "      <td>22.445250</td>\n",
       "      <td>471.350250</td>\n",
       "      <td>448.90500</td>\n",
       "      <td>4.761905e+00</td>\n",
       "      <td>22.445250</td>\n",
       "      <td>8.50000</td>\n",
       "    </tr>\n",
       "    <tr>\n",
       "      <th>max</th>\n",
       "      <td>99.960000</td>\n",
       "      <td>10.000000</td>\n",
       "      <td>49.650000</td>\n",
       "      <td>1042.650000</td>\n",
       "      <td>993.00000</td>\n",
       "      <td>4.761905e+00</td>\n",
       "      <td>49.650000</td>\n",
       "      <td>10.00000</td>\n",
       "    </tr>\n",
       "  </tbody>\n",
       "</table>\n",
       "</div>"
      ],
      "text/plain": [
       "        unit_price     quantity   tax_5_perc        total  cost_of_goods_sold  \\\n",
       "count  1000.000000  1000.000000  1000.000000  1000.000000          1000.00000   \n",
       "mean     55.672130     5.510000    15.379369   322.966749           307.58738   \n",
       "std      26.494628     2.923431    11.708825   245.885335           234.17651   \n",
       "min      10.080000     1.000000     0.508500    10.678500            10.17000   \n",
       "25%      32.875000     3.000000     5.924875   124.422375           118.49750   \n",
       "50%      55.230000     5.000000    12.088000   253.848000           241.76000   \n",
       "75%      77.935000     8.000000    22.445250   471.350250           448.90500   \n",
       "max      99.960000    10.000000    49.650000  1042.650000           993.00000   \n",
       "\n",
       "       gross_margin_percentage  gross_income      rating  \n",
       "count             1.000000e+03   1000.000000  1000.00000  \n",
       "mean              4.761905e+00     15.379369     6.97270  \n",
       "std               6.131498e-14     11.708825     1.71858  \n",
       "min               4.761905e+00      0.508500     4.00000  \n",
       "25%               4.761905e+00      5.924875     5.50000  \n",
       "50%               4.761905e+00     12.088000     7.00000  \n",
       "75%               4.761905e+00     22.445250     8.50000  \n",
       "max               4.761905e+00     49.650000    10.00000  "
      ]
     },
     "execution_count": 72,
     "metadata": {},
     "output_type": "execute_result"
    }
   ],
   "source": [
    "# get the summary statistics (descriptive statistics) of the numerical varables\n",
    "supermarket_df.describe()\n",
    "# supermarket_df.head()"
   ]
  },
  {
   "cell_type": "code",
   "execution_count": 73,
   "metadata": {},
   "outputs": [
    {
     "data": {
      "image/png": "[encoded data removed]",
      "text/plain": [
       "<Figure size 1000x500 with 1 Axes>"
      ]
     },
     "metadata": {},
     "output_type": "display_data"
    }
   ],
   "source": [
    "# create a bar plot of the 'branch' variable\n",
    "plt.figure(figsize = (10, 5))\n",
    "supermarket_df.branch.value_counts().plot(kind = 'bar', rot = 0, color = ['red', 'green', 'blue'])\n",
    "plt.xlabel('Branch')\n",
    "plt.title('Distribution of Branches')\n",
    "plt.show()\n",
    "\n",
    "# supermarket_df.branch.value_counts()"
   ]
  },
  {
   "cell_type": "markdown",
   "metadata": {},
   "source": [
    "Observations: \n",
    "Branch A has the highest number of customers while Branch C has the lowest number. However the difference in number of customers is very minimal."
   ]
  },
  {
   "cell_type": "code",
   "execution_count": 74,
   "metadata": {},
   "outputs": [
    {
     "data": {
      "image/png": "[encoded data removed]",
      "text/plain": [
       "<Figure size 800x400 with 1 Axes>"
      ]
     },
     "metadata": {},
     "output_type": "display_data"
    }
   ],
   "source": [
    "# create a bar plot of the 'customer_type' variable\n",
    "plt.figure(figsize = (8,4))\n",
    "supermarket_df.customer_type.value_counts().plot(kind = 'bar', rot = 360)\n",
    "plt.xlabel('Customer Type')\n",
    "plt.title('Distribution of customer type')\n",
    "plt.show()"
   ]
  },
  {
   "cell_type": "code",
   "execution_count": 23,
   "metadata": {},
   "outputs": [
    {
     "data": {
      "text/plain": [
       "Member    501\n",
       "Normal    499\n",
       "Name: customer_type, dtype: int64"
      ]
     },
     "execution_count": 23,
     "metadata": {},
     "output_type": "execute_result"
    }
   ],
   "source": [
    "# get the value counts of the 'customer_type' variable\n",
    "supermarket_df.customer_type.value_counts()"
   ]
  },
  {
   "cell_type": "markdown",
   "metadata": {},
   "source": [
    "Observation: The customer types are roughly equal"
   ]
  },
  {
   "cell_type": "code",
   "execution_count": 25,
   "metadata": {},
   "outputs": [
    {
     "data": {
      "image/png": "[encoded data removed]",
      "text/plain": [
       "<Figure size 800x400 with 1 Axes>"
      ]
     },
     "metadata": {},
     "output_type": "display_data"
    }
   ],
   "source": [
    "# create a bar plot of the 'product_line' variable\n",
    "plt.figure(figsize = (8, 4))\n",
    "supermarket_df.product_line.value_counts().plot(kind = 'bar', rot = 15, color = sns.color_palette('rocket', supermarket_df.product_line.nunique()))\n",
    "plt.xlabel('Product Line')\n",
    "plt.title('Distribution Of Product Line')\n",
    "plt.xticks(ha = 'right')\n",
    "plt.show()"
   ]
  },
  {
   "cell_type": "markdown",
   "metadata": {},
   "source": [
    "Observation: fashion accessories are the most demanded product line while health and beauty is the least demanded product line."
   ]
  },
  {
   "cell_type": "code",
   "execution_count": 27,
   "metadata": {},
   "outputs": [
    {
     "data": {
      "image/png": "[encoded data removed]",
      "text/plain": [
       "<Figure size 800x600 with 1 Axes>"
      ]
     },
     "metadata": {},
     "output_type": "display_data"
    }
   ],
   "source": [
    "# create a pie chart of the 'payment' variable\n",
    "plt.figure(figsize = (8,6))\n",
    "supermarket_df.payment.value_counts().plot(kind = 'pie', autopct = '%1.1f%%')\n",
    "plt.title('Distribution of method of payment')\n",
    "plt.show()"
   ]
  },
  {
   "cell_type": "markdown",
   "metadata": {},
   "source": [
    "Observation: Mobile money is the most common method of payment while cash is the least preffered method of payment."
   ]
  },
  {
   "cell_type": "markdown",
   "metadata": {},
   "source": [
    "4.2 BIVARIATE ANALYSIS"
   ]
  },
  {
   "cell_type": "markdown",
   "metadata": {},
   "source": [
    "Getting a heatmap of the vaiables in the dataset"
   ]
  },
  {
   "cell_type": "code",
   "execution_count": 75,
   "metadata": {},
   "outputs": [
    {
     "data": {
      "image/png": "[encoded data removed]",
      "text/plain": [
       "<Figure size 800x800 with 2 Axes>"
      ]
     },
     "metadata": {},
     "output_type": "display_data"
    }
   ],
   "source": [
    "# create a heatmap of the correlations of the variables in the dataset\n",
    "#calculate the correration matrix\n",
    "numeric_df = supermarket_df.select_dtypes(include=['number']).drop(columns=['gross_margin_percentage'])\n",
    "corr_matrix = numeric_df.corr()\n",
    "# print(corr_matrix.shape)\n",
    "# numeric_df.head()\n",
    "\n",
    "#creating a heatmap\n",
    "plt.figure(figsize = (8,8))\n",
    "sns.heatmap(corr_matrix, annot = True, cmap = 'coolwarm', fmt = \".2f\")\n",
    "plt.title('Correlation heatmap of the variables')\n",
    "plt.show()"
   ]
  },
  {
   "cell_type": "markdown",
   "metadata": {},
   "source": [
    "Observation: The 5% tax, cost of goods sold, gross income and the total are all perfectly correlated to each other."
   ]
  },
  {
   "cell_type": "markdown",
   "metadata": {},
   "source": [
    "Using Pivot Tables "
   ]
  },
  {
   "cell_type": "code",
   "execution_count": 76,
   "metadata": {},
   "outputs": [
    {
     "data": {
      "text/html": [
       "<div>\n",
       "<style scoped>\n",
       "    .dataframe tbody tr th:only-of-type {\n",
       "        vertical-align: middle;\n",
       "    }\n",
       "\n",
       "    .dataframe tbody tr th {\n",
       "        vertical-align: top;\n",
       "    }\n",
       "\n",
       "    .dataframe thead th {\n",
       "        text-align: right;\n",
       "    }\n",
       "</style>\n",
       "<table border=\"1\" class=\"dataframe\">\n",
       "  <thead>\n",
       "    <tr style=\"text-align: right;\">\n",
       "      <th></th>\n",
       "      <th>invoice_id</th>\n",
       "    </tr>\n",
       "    <tr>\n",
       "      <th>branch</th>\n",
       "      <th></th>\n",
       "    </tr>\n",
       "  </thead>\n",
       "  <tbody>\n",
       "    <tr>\n",
       "      <th>A</th>\n",
       "      <td>340</td>\n",
       "    </tr>\n",
       "    <tr>\n",
       "      <th>B</th>\n",
       "      <td>332</td>\n",
       "    </tr>\n",
       "    <tr>\n",
       "      <th>C</th>\n",
       "      <td>328</td>\n",
       "    </tr>\n",
       "  </tbody>\n",
       "</table>\n",
       "</div>"
      ],
      "text/plain": [
       "        invoice_id\n",
       "branch            \n",
       "A              340\n",
       "B              332\n",
       "C              328"
      ]
     },
     "execution_count": 76,
     "metadata": {},
     "output_type": "execute_result"
    }
   ],
   "source": [
    "#create a pivot table to show the number of orders per branch\n",
    "# supermarket_df.head()\n",
    "pd.pivot_table(supermarket_df, values='invoice_id', index='branch', aggfunc='count')"
   ]
  },
  {
   "cell_type": "code",
   "execution_count": 44,
   "metadata": {},
   "outputs": [
    {
     "data": {
      "text/html": [
       "<div>\n",
       "<style scoped>\n",
       "    .dataframe tbody tr th:only-of-type {\n",
       "        vertical-align: middle;\n",
       "    }\n",
       "\n",
       "    .dataframe tbody tr th {\n",
       "        vertical-align: top;\n",
       "    }\n",
       "\n",
       "    .dataframe thead th {\n",
       "        text-align: right;\n",
       "    }\n",
       "</style>\n",
       "<table border=\"1\" class=\"dataframe\">\n",
       "  <thead>\n",
       "    <tr style=\"text-align: right;\">\n",
       "      <th></th>\n",
       "      <th>gross_income</th>\n",
       "    </tr>\n",
       "    <tr>\n",
       "      <th>branch</th>\n",
       "      <th></th>\n",
       "    </tr>\n",
       "  </thead>\n",
       "  <tbody>\n",
       "    <tr>\n",
       "      <th>C</th>\n",
       "      <td>16.052367</td>\n",
       "    </tr>\n",
       "    <tr>\n",
       "      <th>B</th>\n",
       "      <td>15.232024</td>\n",
       "    </tr>\n",
       "    <tr>\n",
       "      <th>A</th>\n",
       "      <td>14.874001</td>\n",
       "    </tr>\n",
       "  </tbody>\n",
       "</table>\n",
       "</div>"
      ],
      "text/plain": [
       "        gross_income\n",
       "branch              \n",
       "C          16.052367\n",
       "B          15.232024\n",
       "A          14.874001"
      ]
     },
     "execution_count": 44,
     "metadata": {},
     "output_type": "execute_result"
    }
   ],
   "source": [
    "# create a pivot table to find the mean of gross income per branch\n",
    "pd.pivot_table(supermarket_df, values='gross_income', index='branch', aggfunc='mean').sort_values(by='gross_income', ascending=False)\n",
    "# supermarket_df.head()"
   ]
  },
  {
   "cell_type": "markdown",
   "metadata": {},
   "source": [
    "Observation: Branch A has the lowest average gross income but has the most orders while branch C has the highest gross income but has the lowest orders."
   ]
  },
  {
   "cell_type": "code",
   "execution_count": 43,
   "metadata": {},
   "outputs": [
    {
     "data": {
      "text/html": [
       "<div>\n",
       "<style scoped>\n",
       "    .dataframe tbody tr th:only-of-type {\n",
       "        vertical-align: middle;\n",
       "    }\n",
       "\n",
       "    .dataframe tbody tr th {\n",
       "        vertical-align: top;\n",
       "    }\n",
       "\n",
       "    .dataframe thead th {\n",
       "        text-align: right;\n",
       "    }\n",
       "</style>\n",
       "<table border=\"1\" class=\"dataframe\">\n",
       "  <thead>\n",
       "    <tr style=\"text-align: right;\">\n",
       "      <th></th>\n",
       "      <th>invoice_id</th>\n",
       "    </tr>\n",
       "    <tr>\n",
       "      <th>product_line</th>\n",
       "      <th></th>\n",
       "    </tr>\n",
       "  </thead>\n",
       "  <tbody>\n",
       "    <tr>\n",
       "      <th>Fashion accessories</th>\n",
       "      <td>178</td>\n",
       "    </tr>\n",
       "    <tr>\n",
       "      <th>Food and beverages</th>\n",
       "      <td>174</td>\n",
       "    </tr>\n",
       "    <tr>\n",
       "      <th>Electronic accessories</th>\n",
       "      <td>170</td>\n",
       "    </tr>\n",
       "    <tr>\n",
       "      <th>Sports and travel</th>\n",
       "      <td>166</td>\n",
       "    </tr>\n",
       "    <tr>\n",
       "      <th>Home and lifestyle</th>\n",
       "      <td>160</td>\n",
       "    </tr>\n",
       "    <tr>\n",
       "      <th>Health and beauty</th>\n",
       "      <td>152</td>\n",
       "    </tr>\n",
       "  </tbody>\n",
       "</table>\n",
       "</div>"
      ],
      "text/plain": [
       "                        invoice_id\n",
       "product_line                      \n",
       "Fashion accessories            178\n",
       "Food and beverages             174\n",
       "Electronic accessories         170\n",
       "Sports and travel              166\n",
       "Home and lifestyle             160\n",
       "Health and beauty              152"
      ]
     },
     "execution_count": 43,
     "metadata": {},
     "output_type": "execute_result"
    }
   ],
   "source": [
    "pd.pivot_table(supermarket_df, values='invoice_id', index='product_line', aggfunc='count').sort_values(by='invoice_id', ascending=False)"
   ]
  },
  {
   "cell_type": "code",
   "execution_count": 52,
   "metadata": {},
   "outputs": [
    {
     "data": {
      "text/html": [
       "<div>\n",
       "<style scoped>\n",
       "    .dataframe tbody tr th:only-of-type {\n",
       "        vertical-align: middle;\n",
       "    }\n",
       "\n",
       "    .dataframe tbody tr th {\n",
       "        vertical-align: top;\n",
       "    }\n",
       "\n",
       "    .dataframe thead th {\n",
       "        text-align: right;\n",
       "    }\n",
       "</style>\n",
       "<table border=\"1\" class=\"dataframe\">\n",
       "  <thead>\n",
       "    <tr style=\"text-align: right;\">\n",
       "      <th></th>\n",
       "      <th>gross_income</th>\n",
       "    </tr>\n",
       "    <tr>\n",
       "      <th>product_line</th>\n",
       "      <th></th>\n",
       "    </tr>\n",
       "  </thead>\n",
       "  <tbody>\n",
       "    <tr>\n",
       "      <th>Home and lifestyle</th>\n",
       "      <td>16.030331</td>\n",
       "    </tr>\n",
       "    <tr>\n",
       "      <th>Sports and travel</th>\n",
       "      <td>15.812630</td>\n",
       "    </tr>\n",
       "    <tr>\n",
       "      <th>Health and beauty</th>\n",
       "      <td>15.411572</td>\n",
       "    </tr>\n",
       "    <tr>\n",
       "      <th>Food and beverages</th>\n",
       "      <td>15.365310</td>\n",
       "    </tr>\n",
       "    <tr>\n",
       "      <th>Electronic accessories</th>\n",
       "      <td>15.220597</td>\n",
       "    </tr>\n",
       "    <tr>\n",
       "      <th>Fashion accessories</th>\n",
       "      <td>14.528062</td>\n",
       "    </tr>\n",
       "  </tbody>\n",
       "</table>\n",
       "</div>"
      ],
      "text/plain": [
       "                        gross_income\n",
       "product_line                        \n",
       "Home and lifestyle         16.030331\n",
       "Sports and travel          15.812630\n",
       "Health and beauty          15.411572\n",
       "Food and beverages         15.365310\n",
       "Electronic accessories     15.220597\n",
       "Fashion accessories        14.528062"
      ]
     },
     "execution_count": 52,
     "metadata": {},
     "output_type": "execute_result"
    }
   ],
   "source": [
    "# create a pivot table to find the average gross income per product line\n",
    "pd.pivot_table(supermarket_df, values='gross_income', index='product_line', aggfunc='mean').sort_values(by='gross_income', ascending=False)"
   ]
  },
  {
   "cell_type": "markdown",
   "metadata": {},
   "source": [
    "Observation:  fashion accessories products are the most demanded products but have the lowest gross income. Health and lifestyle products have the highest gross income but are the second most least demanded products."
   ]
  },
  {
   "cell_type": "code",
   "execution_count": 58,
   "metadata": {},
   "outputs": [
    {
     "data": {
      "text/html": [
       "<div>\n",
       "<style scoped>\n",
       "    .dataframe tbody tr th:only-of-type {\n",
       "        vertical-align: middle;\n",
       "    }\n",
       "\n",
       "    .dataframe tbody tr th {\n",
       "        vertical-align: top;\n",
       "    }\n",
       "\n",
       "    .dataframe thead th {\n",
       "        text-align: right;\n",
       "    }\n",
       "</style>\n",
       "<table border=\"1\" class=\"dataframe\">\n",
       "  <thead>\n",
       "    <tr style=\"text-align: right;\">\n",
       "      <th>product_line</th>\n",
       "      <th>Electronic accessories</th>\n",
       "      <th>Fashion accessories</th>\n",
       "      <th>Food and beverages</th>\n",
       "      <th>Health and beauty</th>\n",
       "      <th>Home and lifestyle</th>\n",
       "      <th>Sports and travel</th>\n",
       "    </tr>\n",
       "    <tr>\n",
       "      <th>branch</th>\n",
       "      <th></th>\n",
       "      <th></th>\n",
       "      <th></th>\n",
       "      <th></th>\n",
       "      <th></th>\n",
       "      <th></th>\n",
       "    </tr>\n",
       "  </thead>\n",
       "  <tbody>\n",
       "    <tr>\n",
       "      <th>A</th>\n",
       "      <td>60</td>\n",
       "      <td>51</td>\n",
       "      <td>58</td>\n",
       "      <td>47</td>\n",
       "      <td>65</td>\n",
       "      <td>59</td>\n",
       "    </tr>\n",
       "    <tr>\n",
       "      <th>B</th>\n",
       "      <td>55</td>\n",
       "      <td>62</td>\n",
       "      <td>50</td>\n",
       "      <td>53</td>\n",
       "      <td>50</td>\n",
       "      <td>62</td>\n",
       "    </tr>\n",
       "    <tr>\n",
       "      <th>C</th>\n",
       "      <td>55</td>\n",
       "      <td>65</td>\n",
       "      <td>66</td>\n",
       "      <td>52</td>\n",
       "      <td>45</td>\n",
       "      <td>45</td>\n",
       "    </tr>\n",
       "  </tbody>\n",
       "</table>\n",
       "</div>"
      ],
      "text/plain": [
       "product_line  Electronic accessories  Fashion accessories  Food and beverages  \\\n",
       "branch                                                                          \n",
       "A                                 60                   51                  58   \n",
       "B                                 55                   62                  50   \n",
       "C                                 55                   65                  66   \n",
       "\n",
       "product_line  Health and beauty  Home and lifestyle  Sports and travel  \n",
       "branch                                                                  \n",
       "A                            47                  65                 59  \n",
       "B                            53                  50                 62  \n",
       "C                            52                  45                 45  "
      ]
     },
     "execution_count": 58,
     "metadata": {},
     "output_type": "execute_result"
    }
   ],
   "source": [
    "#Finding out the most stocked product line per branch\n",
    "pd.pivot_table(supermarket_df, values='invoice_id', index='branch', columns='product_line', aggfunc={'invoice_id' : 'count'})\n"
   ]
  },
  {
   "cell_type": "markdown",
   "metadata": {},
   "source": [
    "Observations: \n",
    "1. Branch A has the lowest average gross income per product sold while Branch C has the highest.\n",
    "2. Home and lifestyle products have the highest average gross income while fashion accessories products have the lowest average gross income."
   ]
  },
  {
   "cell_type": "code",
   "execution_count": 53,
   "metadata": {},
   "outputs": [],
   "source": [
    "# get the average gross income per product line for each branch and save to a dataframe\n",
    "branches = pd.pivot_table(supermarket_df, index=['branch', 'product_line'], aggfunc={'gross_income' : 'mean'})\n",
    "branches = branches.reset_index()\n",
    "\n",
    "# split the dataframe into three smaller dataframes based on branch\n",
    "branch_a = branches.loc[branches['branch'] == 'A']\n",
    "branch_b = branches.loc[branches['branch'] == 'B']\n",
    "branch_c = branches.loc[branches['branch'] == 'C']"
   ]
  },
  {
   "cell_type": "code",
   "execution_count": 55,
   "metadata": {},
   "outputs": [
    {
     "data": {
      "text/plain": [
       "product_line\n",
       "Electronic accessories    14.537392\n",
       "Fashion accessories       15.249775\n",
       "Food and beverages        14.091216\n",
       "Health and beauty         12.763681\n",
       "Home and lifestyle        16.422854\n",
       "Sports and travel         15.635754\n",
       "Name: gross_income, dtype: float64"
      ]
     },
     "execution_count": 55,
     "metadata": {},
     "output_type": "execute_result"
    }
   ],
   "source": [
    "# preview the average gross income per product line for Branch A\n",
    "branch_a.groupby('product_line')['gross_income'].mean()\n",
    "# branch_a.head()"
   ]
  },
  {
   "cell_type": "code",
   "execution_count": 56,
   "metadata": {},
   "outputs": [
    {
     "data": {
      "text/plain": [
       "product_line\n",
       "Electronic accessories    14.763155\n",
       "Fashion accessories       12.606234\n",
       "Food and beverages        14.490370\n",
       "Health and beauty         17.952075\n",
       "Home and lifestyle        16.713490\n",
       "Sports and travel         15.351919\n",
       "Name: gross_income, dtype: float64"
      ]
     },
     "execution_count": 56,
     "metadata": {},
     "output_type": "execute_result"
    }
   ],
   "source": [
    "# preview the average gross income per product line for Branch B\n",
    "branch_b.groupby('product_line')['gross_income'].mean()"
   ]
  },
  {
   "cell_type": "code",
   "execution_count": 77,
   "metadata": {},
   "outputs": [
    {
     "data": {
      "text/plain": [
       "product_line\n",
       "Electronic accessories    16.423355\n",
       "Fashion accessories       15.794923\n",
       "Food and beverages        17.147803\n",
       "Health and beauty         15.215500\n",
       "Home and lifestyle        14.704289\n",
       "Sports and travel         16.679289\n",
       "Name: gross_income, dtype: float64"
      ]
     },
     "execution_count": 77,
     "metadata": {},
     "output_type": "execute_result"
    }
   ],
   "source": [
    "# preview the average gross income per product line for Branch C\n",
    "branch_c.groupby('product_line')['gross_income'].mean()"
   ]
  },
  {
   "cell_type": "code",
   "execution_count": 78,
   "metadata": {},
   "outputs": [
    {
     "data": {
      "text/html": [
       "<div>\n",
       "<style scoped>\n",
       "    .dataframe tbody tr th:only-of-type {\n",
       "        vertical-align: middle;\n",
       "    }\n",
       "\n",
       "    .dataframe tbody tr th {\n",
       "        vertical-align: top;\n",
       "    }\n",
       "\n",
       "    .dataframe thead th {\n",
       "        text-align: right;\n",
       "    }\n",
       "</style>\n",
       "<table border=\"1\" class=\"dataframe\">\n",
       "  <thead>\n",
       "    <tr style=\"text-align: right;\">\n",
       "      <th></th>\n",
       "      <th>rating</th>\n",
       "    </tr>\n",
       "    <tr>\n",
       "      <th>branch</th>\n",
       "      <th></th>\n",
       "    </tr>\n",
       "  </thead>\n",
       "  <tbody>\n",
       "    <tr>\n",
       "      <th>A</th>\n",
       "      <td>7.027059</td>\n",
       "    </tr>\n",
       "    <tr>\n",
       "      <th>B</th>\n",
       "      <td>6.818072</td>\n",
       "    </tr>\n",
       "    <tr>\n",
       "      <th>C</th>\n",
       "      <td>7.072866</td>\n",
       "    </tr>\n",
       "  </tbody>\n",
       "</table>\n",
       "</div>"
      ],
      "text/plain": [
       "          rating\n",
       "branch          \n",
       "A       7.027059\n",
       "B       6.818072\n",
       "C       7.072866"
      ]
     },
     "execution_count": 78,
     "metadata": {},
     "output_type": "execute_result"
    }
   ],
   "source": [
    "# create a pivot table to find the average rating per branch\n",
    "pd.pivot_table(supermarket_df, values='rating', index='branch', aggfunc='mean')\n",
    "# supermarket_df.head()"
   ]
  },
  {
   "cell_type": "code",
   "execution_count": 79,
   "metadata": {},
   "outputs": [
    {
     "data": {
      "text/html": [
       "<div>\n",
       "<style scoped>\n",
       "    .dataframe tbody tr th:only-of-type {\n",
       "        vertical-align: middle;\n",
       "    }\n",
       "\n",
       "    .dataframe tbody tr th {\n",
       "        vertical-align: top;\n",
       "    }\n",
       "\n",
       "    .dataframe thead th {\n",
       "        text-align: right;\n",
       "    }\n",
       "</style>\n",
       "<table border=\"1\" class=\"dataframe\">\n",
       "  <thead>\n",
       "    <tr style=\"text-align: right;\">\n",
       "      <th></th>\n",
       "      <th>rating</th>\n",
       "    </tr>\n",
       "    <tr>\n",
       "      <th>product_line</th>\n",
       "      <th></th>\n",
       "    </tr>\n",
       "  </thead>\n",
       "  <tbody>\n",
       "    <tr>\n",
       "      <th>Electronic accessories</th>\n",
       "      <td>6.924706</td>\n",
       "    </tr>\n",
       "    <tr>\n",
       "      <th>Fashion accessories</th>\n",
       "      <td>7.029213</td>\n",
       "    </tr>\n",
       "    <tr>\n",
       "      <th>Food and beverages</th>\n",
       "      <td>7.113218</td>\n",
       "    </tr>\n",
       "    <tr>\n",
       "      <th>Health and beauty</th>\n",
       "      <td>7.003289</td>\n",
       "    </tr>\n",
       "    <tr>\n",
       "      <th>Home and lifestyle</th>\n",
       "      <td>6.837500</td>\n",
       "    </tr>\n",
       "    <tr>\n",
       "      <th>Sports and travel</th>\n",
       "      <td>6.916265</td>\n",
       "    </tr>\n",
       "  </tbody>\n",
       "</table>\n",
       "</div>"
      ],
      "text/plain": [
       "                          rating\n",
       "product_line                    \n",
       "Electronic accessories  6.924706\n",
       "Fashion accessories     7.029213\n",
       "Food and beverages      7.113218\n",
       "Health and beauty       7.003289\n",
       "Home and lifestyle      6.837500\n",
       "Sports and travel       6.916265"
      ]
     },
     "execution_count": 79,
     "metadata": {},
     "output_type": "execute_result"
    }
   ],
   "source": [
    "# create a pivot table to find the average rating per product_line\n",
    "pd.pivot_table(supermarket_df, values='rating', index='product_line', aggfunc='mean')"
   ]
  },
  {
   "cell_type": "markdown",
   "metadata": {},
   "source": [
    "Observations: \n",
    "food and beverages has the highest rating of the product line. Branch C has the highest rating of the three branches."
   ]
  },
  {
   "cell_type": "code",
   "execution_count": 80,
   "metadata": {},
   "outputs": [
    {
     "name": "stdout",
     "output_type": "stream",
     "text": [
      "   branch            product_line    rating\n",
      "0       A  Electronic accessories  6.911667\n",
      "1       A     Fashion accessories  6.878431\n",
      "2       A      Food and beverages  7.253448\n",
      "3       A       Health and beauty  6.900000\n",
      "4       A      Home and lifestyle  6.930769\n",
      "5       A       Sports and travel  7.257627\n",
      "6       B  Electronic accessories  7.116364\n",
      "7       B     Fashion accessories  6.722581\n",
      "8       B      Food and beverages  6.994000\n",
      "9       B       Health and beauty  7.100000\n",
      "10      B      Home and lifestyle  6.516000\n",
      "11      B       Sports and travel  6.509677\n",
      "12      C  Electronic accessories  6.747273\n",
      "13      C     Fashion accessories  7.440000\n",
      "14      C      Food and beverages  7.080303\n",
      "15      C       Health and beauty  6.998077\n",
      "16      C      Home and lifestyle  7.060000\n",
      "17      C       Sports and travel  7.028889\n"
     ]
    }
   ],
   "source": [
    "# get the average rating per product line for each branch and save to a dataframe\n",
    "ratings = pd.pivot_table(supermarket_df, index=['branch', 'product_line'], aggfunc={'rating' : 'mean'})\n",
    "ratings = ratings.reset_index()\n",
    "print(ratings)\n",
    "\n",
    "# split dataframe into smaller dataframes based on branch\n",
    "ratings_a = ratings.loc[ratings['branch'] == 'A']\n",
    "ratings_b = ratings.loc[ratings['branch'] == 'B']\n",
    "ratings_c = ratings.loc[ratings['branch'] == 'C']"
   ]
  },
  {
   "cell_type": "code",
   "execution_count": 81,
   "metadata": {},
   "outputs": [
    {
     "data": {
      "text/html": [
       "<div>\n",
       "<style scoped>\n",
       "    .dataframe tbody tr th:only-of-type {\n",
       "        vertical-align: middle;\n",
       "    }\n",
       "\n",
       "    .dataframe tbody tr th {\n",
       "        vertical-align: top;\n",
       "    }\n",
       "\n",
       "    .dataframe thead th {\n",
       "        text-align: right;\n",
       "    }\n",
       "</style>\n",
       "<table border=\"1\" class=\"dataframe\">\n",
       "  <thead>\n",
       "    <tr style=\"text-align: right;\">\n",
       "      <th></th>\n",
       "      <th>branch</th>\n",
       "      <th>product_line</th>\n",
       "      <th>rating</th>\n",
       "    </tr>\n",
       "  </thead>\n",
       "  <tbody>\n",
       "    <tr>\n",
       "      <th>0</th>\n",
       "      <td>A</td>\n",
       "      <td>Electronic accessories</td>\n",
       "      <td>6.911667</td>\n",
       "    </tr>\n",
       "    <tr>\n",
       "      <th>1</th>\n",
       "      <td>A</td>\n",
       "      <td>Fashion accessories</td>\n",
       "      <td>6.878431</td>\n",
       "    </tr>\n",
       "    <tr>\n",
       "      <th>2</th>\n",
       "      <td>A</td>\n",
       "      <td>Food and beverages</td>\n",
       "      <td>7.253448</td>\n",
       "    </tr>\n",
       "    <tr>\n",
       "      <th>3</th>\n",
       "      <td>A</td>\n",
       "      <td>Health and beauty</td>\n",
       "      <td>6.900000</td>\n",
       "    </tr>\n",
       "    <tr>\n",
       "      <th>4</th>\n",
       "      <td>A</td>\n",
       "      <td>Home and lifestyle</td>\n",
       "      <td>6.930769</td>\n",
       "    </tr>\n",
       "    <tr>\n",
       "      <th>5</th>\n",
       "      <td>A</td>\n",
       "      <td>Sports and travel</td>\n",
       "      <td>7.257627</td>\n",
       "    </tr>\n",
       "  </tbody>\n",
       "</table>\n",
       "</div>"
      ],
      "text/plain": [
       "  branch            product_line    rating\n",
       "0      A  Electronic accessories  6.911667\n",
       "1      A     Fashion accessories  6.878431\n",
       "2      A      Food and beverages  7.253448\n",
       "3      A       Health and beauty  6.900000\n",
       "4      A      Home and lifestyle  6.930769\n",
       "5      A       Sports and travel  7.257627"
      ]
     },
     "execution_count": 81,
     "metadata": {},
     "output_type": "execute_result"
    }
   ],
   "source": [
    "# preview the average ratings per product line for Branch A\n",
    "pd.pivot_table(ratings_a, index=['branch', 'product_line'], aggfunc={'rating' : 'mean'}).reset_index()\n",
    "# pd.pivot_table(supermarket_df, index = )"
   ]
  },
  {
   "cell_type": "code",
   "execution_count": 82,
   "metadata": {},
   "outputs": [
    {
     "data": {
      "text/html": [
       "<div>\n",
       "<style scoped>\n",
       "    .dataframe tbody tr th:only-of-type {\n",
       "        vertical-align: middle;\n",
       "    }\n",
       "\n",
       "    .dataframe tbody tr th {\n",
       "        vertical-align: top;\n",
       "    }\n",
       "\n",
       "    .dataframe thead th {\n",
       "        text-align: right;\n",
       "    }\n",
       "</style>\n",
       "<table border=\"1\" class=\"dataframe\">\n",
       "  <thead>\n",
       "    <tr style=\"text-align: right;\">\n",
       "      <th></th>\n",
       "      <th></th>\n",
       "      <th>rating</th>\n",
       "    </tr>\n",
       "    <tr>\n",
       "      <th>branch</th>\n",
       "      <th>product_line</th>\n",
       "      <th></th>\n",
       "    </tr>\n",
       "  </thead>\n",
       "  <tbody>\n",
       "    <tr>\n",
       "      <th rowspan=\"6\" valign=\"top\">B</th>\n",
       "      <th>Electronic accessories</th>\n",
       "      <td>7.116364</td>\n",
       "    </tr>\n",
       "    <tr>\n",
       "      <th>Fashion accessories</th>\n",
       "      <td>6.722581</td>\n",
       "    </tr>\n",
       "    <tr>\n",
       "      <th>Food and beverages</th>\n",
       "      <td>6.994000</td>\n",
       "    </tr>\n",
       "    <tr>\n",
       "      <th>Health and beauty</th>\n",
       "      <td>7.100000</td>\n",
       "    </tr>\n",
       "    <tr>\n",
       "      <th>Home and lifestyle</th>\n",
       "      <td>6.516000</td>\n",
       "    </tr>\n",
       "    <tr>\n",
       "      <th>Sports and travel</th>\n",
       "      <td>6.509677</td>\n",
       "    </tr>\n",
       "  </tbody>\n",
       "</table>\n",
       "</div>"
      ],
      "text/plain": [
       "                                 rating\n",
       "branch product_line                    \n",
       "B      Electronic accessories  7.116364\n",
       "       Fashion accessories     6.722581\n",
       "       Food and beverages      6.994000\n",
       "       Health and beauty       7.100000\n",
       "       Home and lifestyle      6.516000\n",
       "       Sports and travel       6.509677"
      ]
     },
     "execution_count": 82,
     "metadata": {},
     "output_type": "execute_result"
    }
   ],
   "source": [
    "# preview the average ratings per product line for Branch B\n",
    "pd.pivot_table(ratings_b, index=['branch', 'product_line'], aggfunc={'rating' : 'mean'})"
   ]
  },
  {
   "cell_type": "code",
   "execution_count": 83,
   "metadata": {},
   "outputs": [
    {
     "data": {
      "text/html": [
       "<div>\n",
       "<style scoped>\n",
       "    .dataframe tbody tr th:only-of-type {\n",
       "        vertical-align: middle;\n",
       "    }\n",
       "\n",
       "    .dataframe tbody tr th {\n",
       "        vertical-align: top;\n",
       "    }\n",
       "\n",
       "    .dataframe thead th {\n",
       "        text-align: right;\n",
       "    }\n",
       "</style>\n",
       "<table border=\"1\" class=\"dataframe\">\n",
       "  <thead>\n",
       "    <tr style=\"text-align: right;\">\n",
       "      <th></th>\n",
       "      <th></th>\n",
       "      <th>rating</th>\n",
       "    </tr>\n",
       "    <tr>\n",
       "      <th>branch</th>\n",
       "      <th>product_line</th>\n",
       "      <th></th>\n",
       "    </tr>\n",
       "  </thead>\n",
       "  <tbody>\n",
       "    <tr>\n",
       "      <th rowspan=\"6\" valign=\"top\">C</th>\n",
       "      <th>Electronic accessories</th>\n",
       "      <td>6.747273</td>\n",
       "    </tr>\n",
       "    <tr>\n",
       "      <th>Fashion accessories</th>\n",
       "      <td>7.440000</td>\n",
       "    </tr>\n",
       "    <tr>\n",
       "      <th>Food and beverages</th>\n",
       "      <td>7.080303</td>\n",
       "    </tr>\n",
       "    <tr>\n",
       "      <th>Health and beauty</th>\n",
       "      <td>6.998077</td>\n",
       "    </tr>\n",
       "    <tr>\n",
       "      <th>Home and lifestyle</th>\n",
       "      <td>7.060000</td>\n",
       "    </tr>\n",
       "    <tr>\n",
       "      <th>Sports and travel</th>\n",
       "      <td>7.028889</td>\n",
       "    </tr>\n",
       "  </tbody>\n",
       "</table>\n",
       "</div>"
      ],
      "text/plain": [
       "                                 rating\n",
       "branch product_line                    \n",
       "C      Electronic accessories  6.747273\n",
       "       Fashion accessories     7.440000\n",
       "       Food and beverages      7.080303\n",
       "       Health and beauty       6.998077\n",
       "       Home and lifestyle      7.060000\n",
       "       Sports and travel       7.028889"
      ]
     },
     "execution_count": 83,
     "metadata": {},
     "output_type": "execute_result"
    }
   ],
   "source": [
    "# preview the average ratings per product line for Branch C\n",
    "pd.pivot_table(ratings_c, index=['branch', 'product_line'], aggfunc={'rating': 'mean'})"
   ]
  },
  {
   "cell_type": "markdown",
   "metadata": {},
   "source": [
    "Observations:\n",
    "sports and travel have the highest rating for branch A, fashion accessories have the highest rating for branches B and C, Fashion accessories are the lowest rated for branch B."
   ]
  },
  {
   "cell_type": "markdown",
   "metadata": {},
   "source": [
    "#### Summary\n",
    "Based on the data analysis stage, we can make the following conclusions:\n",
    "* There is no significant difference in branch, gender, customer type, and payment method.\n",
    "* Gross income, the 5% tax, the total, and the cost of goods sold are all perfectly correlated with one another.\n",
    "* Branch C produces the highest average gross income while Branch A produces the lowest.\n",
    "* Home and Lifestyle produces the highest average gross income while Fashion Accessories produces the lowest.\n",
    "* For Branch A, Home and Lifestyle produced the highest gross income while Health and Beauty produced the lowest.\n",
    "* For Branch B, Health and Beauty profuced the highest gross income while Fashion Accessories produced the lowest.\n",
    "* For Branch C, Food and Beverages produced the highest gross income while Home and Lifestyle produced the lowest.\n",
    "* Branch C has the highest average rating while Branch B has the lowest.\n",
    "* Food and Beverages has the highest average rating while Home and Lifestyle has the lowest.\n",
    "* For Branch A, Sports and Travel has the highest average rating while Fashion Accessories has the lowest.\n",
    "* For Branch B, Electronic Accessories has the highest average rating while Sports and Travel has the lowest.\n",
    "* For Branch C, Fashion Accessories has the highest average rating while Electronic Accessories has the lowest.\n",
    "\n",
    "#### Recommendations\n",
    "Based on the findings, I would recommend the supermarket should come up with marketing strategies to:\n",
    "- boost sales of Health and Beauty products in Branch A, Fashion Accessories in Branch B, and Home and Lifestyle items in Branch C, e.g., through reducing prices, providing offers, or getting different brands.\n",
    "- increase ratings of Fashion Accessories in Branch A, Sports and Travel products in Branch B, and Electronic Accessories in Branch C, for example by getting different/better brands, reducing prices, or having promotions."
   ]
  }
 ],
 "metadata": {
  "kernelspec": {
   "display_name": "base",
   "language": "python",
   "name": "python3"
  },
  "language_info": {
   "codemirror_mode": {
    "name": "ipython",
    "version": 3
   },
   "file_extension": ".py",
   "mimetype": "text/x-python",
   "name": "python",
   "nbconvert_exporter": "python",
   "pygments_lexer": "ipython3",
   "version": "3.10.9"
  }
 },
 "nbformat": 4,
 "nbformat_minor": 2
}
